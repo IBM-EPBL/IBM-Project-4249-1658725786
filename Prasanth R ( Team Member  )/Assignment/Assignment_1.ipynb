{
  "nbformat": 4,
  "nbformat_minor": 0,
  "metadata": {
    "colab": {
      "provenance": []
    },
    "kernelspec": {
      "name": "python3",
      "display_name": "Python 3"
    },
    "language_info": {
      "name": "python"
    }
  },
  "cells": [
    {
      "cell_type": "markdown",
      "source": [
        "**Basic** **Python**"
      ],
      "metadata": {
        "id": "iEcg1KaB2USV"
      }
    },
    {
      "cell_type": "markdown",
      "source": [
        "1.**Split this string**"
      ],
      "metadata": {
        "id": "ZxxrHlJ_1jIx"
      }
    },
    {
      "cell_type": "code",
      "source": [
        "s = \"Hi there Sam!\"\n",
        "print(s.split())"
      ],
      "metadata": {
        "colab": {
          "base_uri": "https://localhost:8080/"
        },
        "id": "5he3cphL16eC",
        "outputId": "7bd4c13f-6239-4574-e246-f2d0a544806a"
      },
      "execution_count": 3,
      "outputs": [
        {
          "output_type": "stream",
          "name": "stdout",
          "text": [
            "['Hi', 'there', 'Sam!']\n"
          ]
        }
      ]
    },
    {
      "cell_type": "markdown",
      "source": [
        "**2. Use .format() to print the following string.\n",
        "Output should be:** \n",
        "\n",
        "**The diameter of Earth is 12742 kilometers.**"
      ],
      "metadata": {
        "id": "DT7oWlME2woN"
      }
    },
    {
      "cell_type": "code",
      "source": [
        "planet = \"Earth\"\n",
        "diameter = 12742\n",
        "planet = \"Earth\"\n",
        "diameter = 12742\n",
        "\n",
        "print(\"The diameter of {} is {} kilometers.\".format(planet, diameter))\n",
        "\n",
        "print(f\"The diameter of {planet} is {diameter} kilometers.\")"
      ],
      "metadata": {
        "colab": {
          "base_uri": "https://localhost:8080/"
        },
        "id": "dPCDNnfo16yY",
        "outputId": "05b2a1b4-45d8-4aa7-d53e-13c6a3e5080a"
      },
      "execution_count": 4,
      "outputs": [
        {
          "output_type": "stream",
          "name": "stdout",
          "text": [
            "The diameter of Earth is 12742 kilometers.\n",
            "The diameter of Earth is 12742 kilometers.\n"
          ]
        }
      ]
    },
    {
      "cell_type": "markdown",
      "source": [
        "**3. In this nest dictionary grab the word \"hello\"**"
      ],
      "metadata": {
        "id": "WpJUuptp3PGr"
      }
    },
    {
      "cell_type": "code",
      "source": [
        "d = {'k1':[1,2,3,{'tricky':['oh','man','inception',{'target':[1,2,3,'hello']}]}]}"
      ],
      "metadata": {
        "id": "UBD11l473YNO"
      },
      "execution_count": 5,
      "outputs": []
    },
    {
      "cell_type": "code",
      "source": [
        "d = {'k1':[1,2,3,{'tricky':['oh','man','inception',{'target':[1,2,3,'hello']}]}]}"
      ],
      "metadata": {
        "id": "vPC3YC8v3Yvn"
      },
      "execution_count": 6,
      "outputs": []
    },
    {
      "cell_type": "markdown",
      "source": [
        "**Numpy**"
      ],
      "metadata": {
        "id": "y-Dajm6i3lL8"
      }
    },
    {
      "cell_type": "code",
      "source": [
        "import numpy as np"
      ],
      "metadata": {
        "id": "b1aiOP5r31Mh"
      },
      "execution_count": 7,
      "outputs": []
    },
    {
      "cell_type": "markdown",
      "source": [
        "**4.1 Create an array of 10 zeros?**\n",
        "\n",
        "**4.2 Create an array of 10 fives?**"
      ],
      "metadata": {
        "id": "kKWFdfrs38Ql"
      }
    },
    {
      "cell_type": "code",
      "source": [
        "import numpy as np\n",
        "array=np.zeros(10)\n",
        "print(\"An array of 10 zeros:\")\n",
        "print(array)"
      ],
      "metadata": {
        "colab": {
          "base_uri": "https://localhost:8080/"
        },
        "id": "AlxKkqxr4FkR",
        "outputId": "a3eb42f1-0e50-4155-cb45-7707ce643ed2"
      },
      "execution_count": 8,
      "outputs": [
        {
          "output_type": "stream",
          "name": "stdout",
          "text": [
            "An array of 10 zeros:\n",
            "[0. 0. 0. 0. 0. 0. 0. 0. 0. 0.]\n"
          ]
        }
      ]
    },
    {
      "cell_type": "code",
      "source": [
        "array=np.ones(10)*5\n",
        "print(\"An array of 10 fives:\")\n",
        "print(array)"
      ],
      "metadata": {
        "colab": {
          "base_uri": "https://localhost:8080/"
        },
        "id": "vOSK-Jir4JJy",
        "outputId": "9a113925-7645-4116-8048-b1b96d20d937"
      },
      "execution_count": 9,
      "outputs": [
        {
          "output_type": "stream",
          "name": "stdout",
          "text": [
            "An array of 10 fives:\n",
            "[5. 5. 5. 5. 5. 5. 5. 5. 5. 5.]\n"
          ]
        }
      ]
    },
    {
      "cell_type": "markdown",
      "source": [
        "**5. Create an array of all the even integers from 20 to 35**"
      ],
      "metadata": {
        "id": "Lw77QCtm4R2r"
      }
    },
    {
      "cell_type": "code",
      "source": [
        "import numpy as np\n",
        "array=np.arange(20,35,2)\n",
        "print(\"Array of all the even integers from 20 to 35\")\n",
        "print(array)"
      ],
      "metadata": {
        "colab": {
          "base_uri": "https://localhost:8080/"
        },
        "id": "eXsNQFYI4V_p",
        "outputId": "a6fe9af8-d796-424a-883b-dc89a2c50e01"
      },
      "execution_count": 10,
      "outputs": [
        {
          "output_type": "stream",
          "name": "stdout",
          "text": [
            "Array of all the even integers from 20 to 35\n",
            "[20 22 24 26 28 30 32 34]\n"
          ]
        }
      ]
    },
    {
      "cell_type": "markdown",
      "source": [
        "**6. Create a 3x3 matrix with values ranging from 0 to 8**"
      ],
      "metadata": {
        "id": "IbieLa9q4WxI"
      }
    },
    {
      "cell_type": "code",
      "source": [
        "import numpy as np\n",
        "x =  np.arange(0, 9).reshape(3,3)\n",
        "print(x)"
      ],
      "metadata": {
        "colab": {
          "base_uri": "https://localhost:8080/"
        },
        "id": "VfENr3X24i5p",
        "outputId": "5fe9690a-cfa9-4f5c-c9d9-a4e270757241"
      },
      "execution_count": 11,
      "outputs": [
        {
          "output_type": "stream",
          "name": "stdout",
          "text": [
            "[[0 1 2]\n",
            " [3 4 5]\n",
            " [6 7 8]]\n"
          ]
        }
      ]
    },
    {
      "cell_type": "markdown",
      "source": [
        "**7. Concatenate a and b**\n",
        "\n",
        "**a = np.array([1, 2, 3]), b = np.array([4, 5, 6])**"
      ],
      "metadata": {
        "id": "H3MmdiZA4pSe"
      }
    },
    {
      "cell_type": "code",
      "source": [
        "import numpy as np\n",
        "a = np.array([1, 2, 3])\n",
        "b = np.array([4, 5, 6])\n",
        "c=np.concatenate((a, b))\n",
        "print (c)"
      ],
      "metadata": {
        "colab": {
          "base_uri": "https://localhost:8080/"
        },
        "id": "DE7PtevK4v4g",
        "outputId": "48722849-1d16-4eca-ec3f-fea31a67124a"
      },
      "execution_count": 12,
      "outputs": [
        {
          "output_type": "stream",
          "name": "stdout",
          "text": [
            "[1 2 3 4 5 6]\n"
          ]
        }
      ]
    },
    {
      "cell_type": "markdown",
      "source": [
        "**Pandas**\n",
        "\n",
        "\n",
        "**8. Create a dataframe with 3 rows and 2 columns**"
      ],
      "metadata": {
        "id": "POapUzNW43jM"
      }
    },
    {
      "cell_type": "code",
      "source": [
        "import pandas as pd"
      ],
      "metadata": {
        "id": "4rZRYAoz49QG"
      },
      "execution_count": 13,
      "outputs": []
    },
    {
      "cell_type": "code",
      "source": [
        "import pandas as pd\n",
        "data = {\"Name\": ['Tom','Joseph','John'],'Age': [20, 21,25]}  \n",
        "df = pd.DataFrame(data) \n",
        "print(df)"
      ],
      "metadata": {
        "colab": {
          "base_uri": "https://localhost:8080/"
        },
        "id": "SUkHMtJC5DyP",
        "outputId": "cc4be9c3-53f7-46e2-c3e7-79d5f836098c"
      },
      "execution_count": 14,
      "outputs": [
        {
          "output_type": "stream",
          "name": "stdout",
          "text": [
            "     Name  Age\n",
            "0     Tom   20\n",
            "1  Joseph   21\n",
            "2    John   25\n"
          ]
        }
      ]
    },
    {
      "cell_type": "markdown",
      "source": [
        "**9. Generate the series of dates from 1st Jan, 2023 to 10th Feb, 2023**"
      ],
      "metadata": {
        "id": "hIZ9McQZ5Ia1"
      }
    },
    {
      "cell_type": "code",
      "source": [
        "import pandas as pd\n",
        "from datetime import datetime\n",
        "pd.date_range(end = datetime.today(), periods = 100).to_pydatetime().tolist()\n",
        "pd.date_range(start=\"2023-01-01\",end=\"2023-02-10\").to_pydatetime()"
      ],
      "metadata": {
        "colab": {
          "base_uri": "https://localhost:8080/"
        },
        "id": "o77TKvDV5NAv",
        "outputId": "d99316bb-8965-473f-a448-88ae07ff58c3"
      },
      "execution_count": 15,
      "outputs": [
        {
          "output_type": "execute_result",
          "data": {
            "text/plain": [
              "array([datetime.datetime(2023, 1, 1, 0, 0),\n",
              "       datetime.datetime(2023, 1, 2, 0, 0),\n",
              "       datetime.datetime(2023, 1, 3, 0, 0),\n",
              "       datetime.datetime(2023, 1, 4, 0, 0),\n",
              "       datetime.datetime(2023, 1, 5, 0, 0),\n",
              "       datetime.datetime(2023, 1, 6, 0, 0),\n",
              "       datetime.datetime(2023, 1, 7, 0, 0),\n",
              "       datetime.datetime(2023, 1, 8, 0, 0),\n",
              "       datetime.datetime(2023, 1, 9, 0, 0),\n",
              "       datetime.datetime(2023, 1, 10, 0, 0),\n",
              "       datetime.datetime(2023, 1, 11, 0, 0),\n",
              "       datetime.datetime(2023, 1, 12, 0, 0),\n",
              "       datetime.datetime(2023, 1, 13, 0, 0),\n",
              "       datetime.datetime(2023, 1, 14, 0, 0),\n",
              "       datetime.datetime(2023, 1, 15, 0, 0),\n",
              "       datetime.datetime(2023, 1, 16, 0, 0),\n",
              "       datetime.datetime(2023, 1, 17, 0, 0),\n",
              "       datetime.datetime(2023, 1, 18, 0, 0),\n",
              "       datetime.datetime(2023, 1, 19, 0, 0),\n",
              "       datetime.datetime(2023, 1, 20, 0, 0),\n",
              "       datetime.datetime(2023, 1, 21, 0, 0),\n",
              "       datetime.datetime(2023, 1, 22, 0, 0),\n",
              "       datetime.datetime(2023, 1, 23, 0, 0),\n",
              "       datetime.datetime(2023, 1, 24, 0, 0),\n",
              "       datetime.datetime(2023, 1, 25, 0, 0),\n",
              "       datetime.datetime(2023, 1, 26, 0, 0),\n",
              "       datetime.datetime(2023, 1, 27, 0, 0),\n",
              "       datetime.datetime(2023, 1, 28, 0, 0),\n",
              "       datetime.datetime(2023, 1, 29, 0, 0),\n",
              "       datetime.datetime(2023, 1, 30, 0, 0),\n",
              "       datetime.datetime(2023, 1, 31, 0, 0),\n",
              "       datetime.datetime(2023, 2, 1, 0, 0),\n",
              "       datetime.datetime(2023, 2, 2, 0, 0),\n",
              "       datetime.datetime(2023, 2, 3, 0, 0),\n",
              "       datetime.datetime(2023, 2, 4, 0, 0),\n",
              "       datetime.datetime(2023, 2, 5, 0, 0),\n",
              "       datetime.datetime(2023, 2, 6, 0, 0),\n",
              "       datetime.datetime(2023, 2, 7, 0, 0),\n",
              "       datetime.datetime(2023, 2, 8, 0, 0),\n",
              "       datetime.datetime(2023, 2, 9, 0, 0),\n",
              "       datetime.datetime(2023, 2, 10, 0, 0)], dtype=object)"
            ]
          },
          "metadata": {},
          "execution_count": 15
        }
      ]
    },
    {
      "cell_type": "markdown",
      "source": [
        "**10. Create 2D list to DataFrame**\n",
        "\n",
        "\n",
        "lists = [[1, 'aaa', 22], [2, 'bbb', 25], [3, 'ccc', 24]]"
      ],
      "metadata": {
        "id": "ak7163tg5UjZ"
      }
    },
    {
      "cell_type": "code",
      "source": [
        "lists = [[1, 'aaa', 22], [2, 'bbb', 25], [3, 'ccc', 24]]"
      ],
      "metadata": {
        "id": "KEVcFW3O5bZD"
      },
      "execution_count": 16,
      "outputs": []
    },
    {
      "cell_type": "code",
      "source": [
        "import pandas as pd\n",
        "\n",
        "data = [[1, 'aaa',22], \n",
        "        [2, 'bbb',25], \n",
        "        [3, 'ccc', 24]]\n",
        "\n",
        "df = pd.DataFrame.from_records(data)\n",
        "print (df)"
      ],
      "metadata": {
        "colab": {
          "base_uri": "https://localhost:8080/"
        },
        "id": "EIz5eQZG5cBA",
        "outputId": "7eee877e-c93e-4c48-9f5d-87c43240b1a5"
      },
      "execution_count": 17,
      "outputs": [
        {
          "output_type": "stream",
          "name": "stdout",
          "text": [
            "   0    1   2\n",
            "0  1  aaa  22\n",
            "1  2  bbb  25\n",
            "2  3  ccc  24\n"
          ]
        }
      ]
    }
  ]
}